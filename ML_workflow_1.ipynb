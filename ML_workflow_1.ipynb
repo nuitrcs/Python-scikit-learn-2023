{
 "cells": [
  {
   "cell_type": "markdown",
   "id": "84249947-3dab-4550-862a-555f5d5dfaf9",
   "metadata": {},
   "source": [
    "# <span style=\"color:rebeccapurple\">Python Machine Learning with scikit-learn</span>"
   ]
  },
  {
   "cell_type": "markdown",
   "id": "c0276527-2eee-4dd7-89b6-befeb39e3b58",
   "metadata": {
    "tags": []
   },
   "source": [
    "## <br><span style=\"color:rebeccapurple\">ML workflow steps:</span>\n",
    "\n",
    "1. State the problem\n",
    "2. Gather the data\n",
    "3. Pre-process the data\n",
    "4. Establish a baseline\n",
    "5. Choose a model\n",
    "6. Train the model\n",
    "7. Optimize the model\n",
    "8. Validate the model\n",
    "9. Predict unknown data points using the model\n",
    "10. Interpret and evaluate the model"
   ]
  },
  {
   "cell_type": "code",
   "execution_count": 3,
   "id": "1ff5d5e9-e908-4320-af9d-24700814379c",
   "metadata": {},
   "outputs": [],
   "source": [
    "# Import required packages\n",
    "import pandas as pd\n",
    "import numpy as np\n",
    "import matplotlib\n",
    "import matplotlib.pyplot as plt\n",
    "import seaborn as sns\n",
    "\n",
    "import sklearn"
   ]
  },
  {
   "cell_type": "code",
   "execution_count": 4,
   "id": "4875d4d7-b9e6-4d21-bf5a-53bd8b7985b1",
   "metadata": {},
   "outputs": [],
   "source": [
    "# setting some figure display paramaters\n",
    "sns.set_context('notebook')\n",
    "sns.set_style('white', {'axes.linewidth': 0.5})\n",
    "matplotlib.rcParams.update(matplotlib.rcParamsDefault)\n",
    "\n",
    "plt.rcParams['figure.dpi'] = 150\n",
    "plt.rcParams['xtick.major.size'] = 3\n",
    "plt.rcParams['xtick.major.width'] = 1\n",
    "plt.rcParams['xtick.bottom'] = True\n",
    "plt.rcParams['ytick.left'] = True\n",
    "plt.rcParams['font.family'] = 'sans-serif'\n",
    "plt.rcParams['font.sans-serif'] = 'Arial'\n",
    "plt.rcParams['pdf.fonttype'] = 42\n",
    "plt.rcParams['legend.edgecolor'] = 'w'"
   ]
  },
  {
   "cell_type": "markdown",
   "id": "f51812ab-79c6-4b66-8c8e-c8f081aa8970",
   "metadata": {
    "jp-MarkdownHeadingCollapsed": true,
    "tags": []
   },
   "source": [
    "## <span style=\"color:rebeccapurple\">1. State the problem</span></h1>\n",
    "\n",
    "**Task:** Predict diabetes disease progression from patient characterisitics.\n",
    "\n",
    "**Input:** Table of diabetic patient features\n",
    "\n",
    "**Output:** Some metric of disease progression"
   ]
  },
  {
   "cell_type": "markdown",
   "id": "fa6e7335-9761-4909-abfb-4ab05cfe0b63",
   "metadata": {
    "tags": []
   },
   "source": [
    "## <span style=\"color:rebeccapurple\">2. Gather and inspect the data</span></h1>\n",
    "\n",
    "**Data:** Ten baseline variables, age, sex, body mass index, average blood pressure, and six blood serum measurements were obtained for each of n = 442 diabetes patients, as well as the response of interest, a quantitative measure of disease progression one year after baseline."
   ]
  },
  {
   "cell_type": "code",
   "execution_count": 39,
   "id": "7adeb1f1-5915-4858-9660-09cf62422eb0",
   "metadata": {},
   "outputs": [],
   "source": [
    "# Let's look at the data\n",
    "df = pd.read_csv('data/diabetes.csv')"
   ]
  },
  {
   "cell_type": "code",
   "execution_count": 40,
   "id": "b3b5461b-d645-432c-a951-657bc8b9f3ef",
   "metadata": {},
   "outputs": [
    {
     "data": {
      "text/html": [
       "<div>\n",
       "<style scoped>\n",
       "    .dataframe tbody tr th:only-of-type {\n",
       "        vertical-align: middle;\n",
       "    }\n",
       "\n",
       "    .dataframe tbody tr th {\n",
       "        vertical-align: top;\n",
       "    }\n",
       "\n",
       "    .dataframe thead th {\n",
       "        text-align: right;\n",
       "    }\n",
       "</style>\n",
       "<table border=\"1\" class=\"dataframe\">\n",
       "  <thead>\n",
       "    <tr style=\"text-align: right;\">\n",
       "      <th></th>\n",
       "      <th>AGE</th>\n",
       "      <th>SEX</th>\n",
       "      <th>BMI</th>\n",
       "      <th>BP</th>\n",
       "      <th>S1</th>\n",
       "      <th>S2</th>\n",
       "      <th>S3</th>\n",
       "      <th>S4</th>\n",
       "      <th>S5</th>\n",
       "      <th>S6</th>\n",
       "      <th>Y</th>\n",
       "    </tr>\n",
       "  </thead>\n",
       "  <tbody>\n",
       "    <tr>\n",
       "      <th>0</th>\n",
       "      <td>59</td>\n",
       "      <td>M</td>\n",
       "      <td>32.1</td>\n",
       "      <td>101.0</td>\n",
       "      <td>157</td>\n",
       "      <td>93.2</td>\n",
       "      <td>38.0</td>\n",
       "      <td>4.0</td>\n",
       "      <td>4.8598</td>\n",
       "      <td>87</td>\n",
       "      <td>151</td>\n",
       "    </tr>\n",
       "    <tr>\n",
       "      <th>1</th>\n",
       "      <td>48</td>\n",
       "      <td>F</td>\n",
       "      <td>21.6</td>\n",
       "      <td>87.0</td>\n",
       "      <td>183</td>\n",
       "      <td>103.2</td>\n",
       "      <td>70.0</td>\n",
       "      <td>3.0</td>\n",
       "      <td>3.8918</td>\n",
       "      <td>69</td>\n",
       "      <td>75</td>\n",
       "    </tr>\n",
       "    <tr>\n",
       "      <th>2</th>\n",
       "      <td>72</td>\n",
       "      <td>M</td>\n",
       "      <td>30.5</td>\n",
       "      <td>93.0</td>\n",
       "      <td>156</td>\n",
       "      <td>93.6</td>\n",
       "      <td>41.0</td>\n",
       "      <td>4.0</td>\n",
       "      <td>4.6728</td>\n",
       "      <td>85</td>\n",
       "      <td>141</td>\n",
       "    </tr>\n",
       "    <tr>\n",
       "      <th>3</th>\n",
       "      <td>24</td>\n",
       "      <td>F</td>\n",
       "      <td>25.3</td>\n",
       "      <td>84.0</td>\n",
       "      <td>198</td>\n",
       "      <td>131.4</td>\n",
       "      <td>40.0</td>\n",
       "      <td>5.0</td>\n",
       "      <td>4.8903</td>\n",
       "      <td>89</td>\n",
       "      <td>206</td>\n",
       "    </tr>\n",
       "    <tr>\n",
       "      <th>4</th>\n",
       "      <td>50</td>\n",
       "      <td>F</td>\n",
       "      <td>23.0</td>\n",
       "      <td>101.0</td>\n",
       "      <td>192</td>\n",
       "      <td>125.4</td>\n",
       "      <td>52.0</td>\n",
       "      <td>4.0</td>\n",
       "      <td>4.2905</td>\n",
       "      <td>80</td>\n",
       "      <td>135</td>\n",
       "    </tr>\n",
       "  </tbody>\n",
       "</table>\n",
       "</div>"
      ],
      "text/plain": [
       "   AGE SEX   BMI     BP   S1     S2    S3   S4      S5  S6    Y\n",
       "0   59   M  32.1  101.0  157   93.2  38.0  4.0  4.8598  87  151\n",
       "1   48   F  21.6   87.0  183  103.2  70.0  3.0  3.8918  69   75\n",
       "2   72   M  30.5   93.0  156   93.6  41.0  4.0  4.6728  85  141\n",
       "3   24   F  25.3   84.0  198  131.4  40.0  5.0  4.8903  89  206\n",
       "4   50   F  23.0  101.0  192  125.4  52.0  4.0  4.2905  80  135"
      ]
     },
     "execution_count": 40,
     "metadata": {},
     "output_type": "execute_result"
    }
   ],
   "source": [
    "df.head()"
   ]
  },
  {
   "cell_type": "code",
   "execution_count": 168,
   "id": "b5d23977-cdee-4cef-b523-e680c41c1ae4",
   "metadata": {},
   "outputs": [
    {
     "data": {
      "text/plain": [
       "(442, 11)"
      ]
     },
     "execution_count": 168,
     "metadata": {},
     "output_type": "execute_result"
    }
   ],
   "source": [
    "df.shape"
   ]
  },
  {
   "cell_type": "code",
   "execution_count": 44,
   "id": "d46508f8-4063-4438-8484-e5d436ed73be",
   "metadata": {},
   "outputs": [
    {
     "data": {
      "text/html": [
       "<div>\n",
       "<style scoped>\n",
       "    .dataframe tbody tr th:only-of-type {\n",
       "        vertical-align: middle;\n",
       "    }\n",
       "\n",
       "    .dataframe tbody tr th {\n",
       "        vertical-align: top;\n",
       "    }\n",
       "\n",
       "    .dataframe thead th {\n",
       "        text-align: right;\n",
       "    }\n",
       "</style>\n",
       "<table border=\"1\" class=\"dataframe\">\n",
       "  <thead>\n",
       "    <tr style=\"text-align: right;\">\n",
       "      <th></th>\n",
       "      <th>AGE</th>\n",
       "      <th>BMI</th>\n",
       "      <th>BP</th>\n",
       "      <th>S1</th>\n",
       "      <th>S2</th>\n",
       "      <th>S3</th>\n",
       "      <th>S4</th>\n",
       "      <th>S5</th>\n",
       "      <th>S6</th>\n",
       "      <th>Y</th>\n",
       "    </tr>\n",
       "  </thead>\n",
       "  <tbody>\n",
       "    <tr>\n",
       "      <th>count</th>\n",
       "      <td>442.000000</td>\n",
       "      <td>442.000000</td>\n",
       "      <td>442.000000</td>\n",
       "      <td>442.000000</td>\n",
       "      <td>442.000000</td>\n",
       "      <td>442.000000</td>\n",
       "      <td>442.000000</td>\n",
       "      <td>442.000000</td>\n",
       "      <td>442.000000</td>\n",
       "      <td>442.000000</td>\n",
       "    </tr>\n",
       "    <tr>\n",
       "      <th>mean</th>\n",
       "      <td>48.518100</td>\n",
       "      <td>26.375792</td>\n",
       "      <td>94.647014</td>\n",
       "      <td>189.140271</td>\n",
       "      <td>115.439140</td>\n",
       "      <td>49.788462</td>\n",
       "      <td>4.070249</td>\n",
       "      <td>4.641411</td>\n",
       "      <td>91.260181</td>\n",
       "      <td>152.133484</td>\n",
       "    </tr>\n",
       "    <tr>\n",
       "      <th>std</th>\n",
       "      <td>13.109028</td>\n",
       "      <td>4.418122</td>\n",
       "      <td>13.831283</td>\n",
       "      <td>34.608052</td>\n",
       "      <td>30.413081</td>\n",
       "      <td>12.934202</td>\n",
       "      <td>1.290450</td>\n",
       "      <td>0.522391</td>\n",
       "      <td>11.496335</td>\n",
       "      <td>77.093005</td>\n",
       "    </tr>\n",
       "    <tr>\n",
       "      <th>min</th>\n",
       "      <td>19.000000</td>\n",
       "      <td>18.000000</td>\n",
       "      <td>62.000000</td>\n",
       "      <td>97.000000</td>\n",
       "      <td>41.600000</td>\n",
       "      <td>22.000000</td>\n",
       "      <td>2.000000</td>\n",
       "      <td>3.258100</td>\n",
       "      <td>58.000000</td>\n",
       "      <td>25.000000</td>\n",
       "    </tr>\n",
       "    <tr>\n",
       "      <th>25%</th>\n",
       "      <td>38.250000</td>\n",
       "      <td>23.200000</td>\n",
       "      <td>84.000000</td>\n",
       "      <td>164.250000</td>\n",
       "      <td>96.050000</td>\n",
       "      <td>40.250000</td>\n",
       "      <td>3.000000</td>\n",
       "      <td>4.276700</td>\n",
       "      <td>83.250000</td>\n",
       "      <td>87.000000</td>\n",
       "    </tr>\n",
       "    <tr>\n",
       "      <th>50%</th>\n",
       "      <td>50.000000</td>\n",
       "      <td>25.700000</td>\n",
       "      <td>93.000000</td>\n",
       "      <td>186.000000</td>\n",
       "      <td>113.000000</td>\n",
       "      <td>48.000000</td>\n",
       "      <td>4.000000</td>\n",
       "      <td>4.620050</td>\n",
       "      <td>91.000000</td>\n",
       "      <td>140.500000</td>\n",
       "    </tr>\n",
       "    <tr>\n",
       "      <th>75%</th>\n",
       "      <td>59.000000</td>\n",
       "      <td>29.275000</td>\n",
       "      <td>105.000000</td>\n",
       "      <td>209.750000</td>\n",
       "      <td>134.500000</td>\n",
       "      <td>57.750000</td>\n",
       "      <td>5.000000</td>\n",
       "      <td>4.997200</td>\n",
       "      <td>98.000000</td>\n",
       "      <td>211.500000</td>\n",
       "    </tr>\n",
       "    <tr>\n",
       "      <th>max</th>\n",
       "      <td>79.000000</td>\n",
       "      <td>42.200000</td>\n",
       "      <td>133.000000</td>\n",
       "      <td>301.000000</td>\n",
       "      <td>242.400000</td>\n",
       "      <td>99.000000</td>\n",
       "      <td>9.090000</td>\n",
       "      <td>6.107000</td>\n",
       "      <td>124.000000</td>\n",
       "      <td>346.000000</td>\n",
       "    </tr>\n",
       "  </tbody>\n",
       "</table>\n",
       "</div>"
      ],
      "text/plain": [
       "              AGE         BMI          BP          S1          S2          S3  \\\n",
       "count  442.000000  442.000000  442.000000  442.000000  442.000000  442.000000   \n",
       "mean    48.518100   26.375792   94.647014  189.140271  115.439140   49.788462   \n",
       "std     13.109028    4.418122   13.831283   34.608052   30.413081   12.934202   \n",
       "min     19.000000   18.000000   62.000000   97.000000   41.600000   22.000000   \n",
       "25%     38.250000   23.200000   84.000000  164.250000   96.050000   40.250000   \n",
       "50%     50.000000   25.700000   93.000000  186.000000  113.000000   48.000000   \n",
       "75%     59.000000   29.275000  105.000000  209.750000  134.500000   57.750000   \n",
       "max     79.000000   42.200000  133.000000  301.000000  242.400000   99.000000   \n",
       "\n",
       "               S4          S5          S6           Y  \n",
       "count  442.000000  442.000000  442.000000  442.000000  \n",
       "mean     4.070249    4.641411   91.260181  152.133484  \n",
       "std      1.290450    0.522391   11.496335   77.093005  \n",
       "min      2.000000    3.258100   58.000000   25.000000  \n",
       "25%      3.000000    4.276700   83.250000   87.000000  \n",
       "50%      4.000000    4.620050   91.000000  140.500000  \n",
       "75%      5.000000    4.997200   98.000000  211.500000  \n",
       "max      9.090000    6.107000  124.000000  346.000000  "
      ]
     },
     "execution_count": 44,
     "metadata": {},
     "output_type": "execute_result"
    }
   ],
   "source": [
    "df.describe()"
   ]
  },
  {
   "cell_type": "code",
   "execution_count": 42,
   "id": "ab4914cd-0ae4-43a6-bac4-e2d6b87bb8e4",
   "metadata": {},
   "outputs": [
    {
     "data": {
      "text/html": [
       "<div>\n",
       "<style scoped>\n",
       "    .dataframe tbody tr th:only-of-type {\n",
       "        vertical-align: middle;\n",
       "    }\n",
       "\n",
       "    .dataframe tbody tr th {\n",
       "        vertical-align: top;\n",
       "    }\n",
       "\n",
       "    .dataframe thead th {\n",
       "        text-align: right;\n",
       "    }\n",
       "</style>\n",
       "<table border=\"1\" class=\"dataframe\">\n",
       "  <thead>\n",
       "    <tr style=\"text-align: right;\">\n",
       "      <th></th>\n",
       "      <th>AGE</th>\n",
       "      <th>BMI</th>\n",
       "      <th>BP</th>\n",
       "      <th>S1</th>\n",
       "      <th>S2</th>\n",
       "      <th>S3</th>\n",
       "      <th>S4</th>\n",
       "      <th>S5</th>\n",
       "      <th>S6</th>\n",
       "      <th>Y</th>\n",
       "    </tr>\n",
       "    <tr>\n",
       "      <th>SEX</th>\n",
       "      <th></th>\n",
       "      <th></th>\n",
       "      <th></th>\n",
       "      <th></th>\n",
       "      <th></th>\n",
       "      <th></th>\n",
       "      <th></th>\n",
       "      <th></th>\n",
       "      <th></th>\n",
       "      <th></th>\n",
       "    </tr>\n",
       "  </thead>\n",
       "  <tbody>\n",
       "    <tr>\n",
       "      <th>F</th>\n",
       "      <td>46.382979</td>\n",
       "      <td>26.010638</td>\n",
       "      <td>91.521957</td>\n",
       "      <td>187.995745</td>\n",
       "      <td>111.372340</td>\n",
       "      <td>54.385106</td>\n",
       "      <td>3.668468</td>\n",
       "      <td>4.567993</td>\n",
       "      <td>89.017021</td>\n",
       "      <td>149.021277</td>\n",
       "    </tr>\n",
       "    <tr>\n",
       "      <th>M</th>\n",
       "      <td>50.942029</td>\n",
       "      <td>26.790338</td>\n",
       "      <td>98.194783</td>\n",
       "      <td>190.439614</td>\n",
       "      <td>120.056039</td>\n",
       "      <td>44.570048</td>\n",
       "      <td>4.526377</td>\n",
       "      <td>4.724760</td>\n",
       "      <td>93.806763</td>\n",
       "      <td>155.666667</td>\n",
       "    </tr>\n",
       "  </tbody>\n",
       "</table>\n",
       "</div>"
      ],
      "text/plain": [
       "           AGE        BMI         BP          S1          S2         S3  \\\n",
       "SEX                                                                       \n",
       "F    46.382979  26.010638  91.521957  187.995745  111.372340  54.385106   \n",
       "M    50.942029  26.790338  98.194783  190.439614  120.056039  44.570048   \n",
       "\n",
       "           S4        S5         S6           Y  \n",
       "SEX                                             \n",
       "F    3.668468  4.567993  89.017021  149.021277  \n",
       "M    4.526377  4.724760  93.806763  155.666667  "
      ]
     },
     "execution_count": 42,
     "metadata": {},
     "output_type": "execute_result"
    }
   ],
   "source": [
    "df.groupby(\"SEX\").mean()"
   ]
  },
  {
   "cell_type": "code",
   "execution_count": 171,
   "id": "e3fb7963-aec6-4fcb-a989-47a0fbe0203b",
   "metadata": {},
   "outputs": [
    {
     "data": {
      "image/png": "[encoded data removed]",
      "text/plain": [
       "<Figure size 600x300 with 1 Axes>"
      ]
     },
     "metadata": {},
     "output_type": "display_data"
    }
   ],
   "source": [
    "# Let's see what distribution of the output variable looks like\n",
    "plt.figure(figsize=(4, 2))\n",
    "sns.histplot(df['Y'], bins=20)\n",
    "plt.xlim([0, 400])\n",
    "plt.title('Target distribution')\n",
    "plt.show()"
   ]
  },
  {
   "cell_type": "markdown",
   "id": "bc0f3379-801c-4466-bf06-ce430c181f40",
   "metadata": {},
   "source": [
    "<span style=\"color:#DC537D\"><font size=\"+1\">What is the input data for prediction?</font></span>"
   ]
  },
  {
   "cell_type": "code",
   "execution_count": 173,
   "id": "9880dcde-04fa-40e6-8b22-a6de9f59be76",
   "metadata": {},
   "outputs": [],
   "source": [
    "# select the input data\n",
    "X = "
   ]
  },
  {
   "cell_type": "markdown",
   "id": "f3b4f7ec-2368-4b85-aa29-ce0fe53df35b",
   "metadata": {},
   "source": [
    "<span style=\"color:#DC537D\"><font size=\"+1\">What is the target to be predicted?</font></span>"
   ]
  },
  {
   "cell_type": "code",
   "execution_count": 174,
   "id": "1e2475a3-fc62-4309-a410-c54201343299",
   "metadata": {},
   "outputs": [],
   "source": [
    "# select the target labels\n",
    "y = "
   ]
  },
  {
   "cell_type": "markdown",
   "id": "a323072b-6ccd-4cbf-94e4-7dd3233afbaa",
   "metadata": {
    "tags": []
   },
   "source": [
    "## <span style=\"color:rebeccapurple\">3. Split the data into train and test</span></h1>\n",
    "Ideally you want to separate the train and test sets very early on. I prefer to split them before pre-processing."
   ]
  },
  {
   "cell_type": "markdown",
   "id": "bea1d080-a3ae-4c67-81e9-75a2846963de",
   "metadata": {},
   "source": [
    "<span style=\"color:#DC537D\"><font size=\"+1\">Write code to split the dataset 80-20 train vs test</font></span>"
   ]
  },
  {
   "cell_type": "code",
   "execution_count": 119,
   "id": "1f308bb4-003a-4da5-8e1f-8fa3980af12a",
   "metadata": {},
   "outputs": [],
   "source": [
    "# import the required function\n"
   ]
  },
  {
   "cell_type": "code",
   "execution_count": 124,
   "id": "c35760c2-28f8-4816-b1f0-dc740da705cf",
   "metadata": {},
   "outputs": [],
   "source": [
    "# split the dataset\n"
   ]
  },
  {
   "cell_type": "code",
   "execution_count": null,
   "id": "79bc47cf-cc33-41d9-83a2-23fe6ee6d1cd",
   "metadata": {},
   "outputs": [],
   "source": [
    "# look at the dimensions of the split data\n"
   ]
  },
  {
   "cell_type": "markdown",
   "id": "ca957a70-c639-4ce2-8597-9a7793ffe92a",
   "metadata": {},
   "source": [
    "## <span style=\"color:rebeccapurple\">4. Pre-process the training data</span>"
   ]
  },
  {
   "cell_type": "markdown",
   "id": "aa612bd1-858c-40bc-a4f2-b71056831a41",
   "metadata": {},
   "source": [
    "<span style=\"color:#DC537D\"><font size=\"+1\">What kind of pre-processing does our dataset need?</font></span>"
   ]
  },
  {
   "cell_type": "code",
   "execution_count": 49,
   "id": "991fea46-233c-4cf8-a44e-ef07618bacb6",
   "metadata": {},
   "outputs": [
    {
     "data": {
      "text/plain": [
       "Index(['AGE', 'SEX', 'BMI', 'BP', 'S1', 'S2', 'S3', 'S4', 'S5', 'S6', 'Y'], dtype='object')"
      ]
     },
     "execution_count": 49,
     "metadata": {},
     "output_type": "execute_result"
    }
   ],
   "source": [
    "df.columns"
   ]
  },
  {
   "cell_type": "code",
   "execution_count": null,
   "id": "bb956683-9932-4293-819d-aeede656e497",
   "metadata": {},
   "outputs": [],
   "source": [
    "# list the numerical features\n",
    "numeric_cols = "
   ]
  },
  {
   "cell_type": "code",
   "execution_count": null,
   "id": "d73d7d61-f0f4-4ac5-933c-fa0e5d26a4ab",
   "metadata": {},
   "outputs": [],
   "source": [
    "# list the categorical features\n",
    "categorical_cols = "
   ]
  },
  {
   "cell_type": "code",
   "execution_count": null,
   "id": "834adbf7-9cfd-4276-b02c-502455034da5",
   "metadata": {},
   "outputs": [],
   "source": [
    "# ---------------- standardize numerical columns ---------------\n",
    "# import scaler\n",
    "\n",
    "# fit\n",
    "\n",
    "# transform both train and test\n"
   ]
  },
  {
   "cell_type": "code",
   "execution_count": null,
   "id": "09f508a4-00fd-4419-9dbb-e3b6f5c7421c",
   "metadata": {},
   "outputs": [],
   "source": [
    "# ---------------- encode categorical columns ---------------\n",
    "# import encoder\n",
    "\n",
    "# fit\n",
    "\n",
    "# transform both train and test\n"
   ]
  },
  {
   "cell_type": "code",
   "execution_count": null,
   "id": "bcfc1577-05f3-4c3e-96bf-50aeca460283",
   "metadata": {},
   "outputs": [],
   "source": [
    "# ---------------- stack the processed columns together---------------\n"
   ]
  },
  {
   "cell_type": "markdown",
   "id": "5e8ac6bf-acbf-4f0a-9788-dde3f4759e93",
   "metadata": {},
   "source": [
    "<span style=\"color:#DC537D\"><font size=\"+1\">Does the target label need any encoding / transformation?</font></span>"
   ]
  },
  {
   "cell_type": "code",
   "execution_count": null,
   "id": "a0e7c0a1-3ed7-4d4a-b852-71d31676a540",
   "metadata": {},
   "outputs": [],
   "source": []
  },
  {
   "cell_type": "markdown",
   "id": "ecbe1c38-f6aa-4ad2-b996-5d3e801c328a",
   "metadata": {},
   "source": [
    "## <span style=\"color:rebeccapurple\">5. Establish a baseline</span></h1>"
   ]
  },
  {
   "cell_type": "markdown",
   "id": "a05642b7-5247-44ac-a01d-df174e2225d4",
   "metadata": {},
   "source": [
    "The simplest prediction you could make would be an \"average diagnosis\":"
   ]
  },
  {
   "cell_type": "code",
   "execution_count": 179,
   "id": "3c1c0032-341d-4bc3-a824-80e81c2b089d",
   "metadata": {},
   "outputs": [
    {
     "data": {
      "text/plain": [
       "152.13348416289594"
      ]
     },
     "execution_count": 179,
     "metadata": {},
     "output_type": "execute_result"
    }
   ],
   "source": [
    "df[\"Y\"].mean()"
   ]
  },
  {
   "cell_type": "markdown",
   "id": "a209213a-7094-4163-b66f-68c18119cc6b",
   "metadata": {},
   "source": [
    "The error on this prediction can be calculated too. Suppose we decide to calculate the mean squared error (MSE)\n",
    "$$MSE = \\overline{(Observed - Expected)^2}$$"
   ]
  },
  {
   "cell_type": "code",
   "execution_count": 184,
   "id": "d98208d1-b816-41c4-b0a3-d52517a8e303",
   "metadata": {},
   "outputs": [
    {
     "data": {
      "text/plain": [
       "5929.884896910383"
      ]
     },
     "execution_count": 184,
     "metadata": {},
     "output_type": "execute_result"
    }
   ],
   "source": [
    "error = df[\"Y\"] - df[\"Y\"].mean()\n",
    "squared_error = error**2\n",
    "mean_squared_error = np.mean(squared_error)\n",
    "mean_squared_error"
   ]
  },
  {
   "cell_type": "markdown",
   "id": "7bc81788-7da1-4dd9-ac7c-10904c4e73d3",
   "metadata": {},
   "source": [
    "The objective of model training or model optimization is to reduce the training error as much as possible, without over-fitting the model.\n",
    "\n",
    "Note - Ideally you never see the test set, so the \"average prediction\" would be calculated over the train set only."
   ]
  },
  {
   "cell_type": "markdown",
   "id": "0527d0d2-cad3-4d28-b3ae-795b0b961a92",
   "metadata": {},
   "source": [
    "<span style=\"color:#DC537D\"><font size=\"+1\">Provide a baseline target prediction and mean squared error using the training set</font></span>"
   ]
  },
  {
   "cell_type": "code",
   "execution_count": null,
   "id": "cce7cbca-b803-4a3c-bacf-db19741c848d",
   "metadata": {},
   "outputs": [],
   "source": []
  },
  {
   "cell_type": "markdown",
   "id": "b5c51945-783a-4691-b238-79c624893b80",
   "metadata": {},
   "source": [
    "## <span style=\"color:rebeccapurple\">6. Choose a model</span></h1>"
   ]
  },
  {
   "cell_type": "markdown",
   "id": "0b706ef4-f041-4ddd-870f-8bf451febbe6",
   "metadata": {},
   "source": [
    "<span style=\"color:#DC537D\"><font size=\"+1\">Is this a supervised or unsupervised learning task?</font></span>"
   ]
  },
  {
   "cell_type": "markdown",
   "id": "0db2819f-370d-4dd5-a4d7-ece6d057014a",
   "metadata": {},
   "source": [
    "<span style=\"color:#DC537D\"><font size=\"+1\">Is this a classification or regression task?</font></span>"
   ]
  },
  {
   "cell_type": "markdown",
   "id": "59c757fa-1f98-4324-afc2-98af1e042252",
   "metadata": {},
   "source": [
    "<span style=\"color:#DC537D\"><font size=\"+1\">Are we predicting discrete or continuous values?</font></span>"
   ]
  },
  {
   "cell_type": "code",
   "execution_count": null,
   "id": "862a6ca4-b999-4066-9e57-32cc9bb75871",
   "metadata": {},
   "outputs": [],
   "source": []
  },
  {
   "cell_type": "code",
   "execution_count": null,
   "id": "3065a957-4490-42b6-b941-0288a602cd77",
   "metadata": {},
   "outputs": [],
   "source": []
  },
  {
   "cell_type": "markdown",
   "id": "6da36cc5-0720-485a-8738-fac986e837ea",
   "metadata": {},
   "source": [
    "Let's try to use a simple, interpretable model - a linear regressor"
   ]
  },
  {
   "cell_type": "markdown",
   "id": "aa01e95e-7994-4290-93e1-515c83e78744",
   "metadata": {},
   "source": []
  },
  {
   "cell_type": "markdown",
   "id": "faebd25f-3629-4770-aac4-4bde285f3de8",
   "metadata": {},
   "source": [
    "## <span style=\"color:rebeccapurple\">7. Train the model</span></h1>"
   ]
  },
  {
   "cell_type": "markdown",
   "id": "e5b31004-0a4c-4f68-a29e-d4f99d946596",
   "metadata": {},
   "source": [
    "<span style=\"color:#DC537D\"><font size=\"+1\">Use sklearn to train a linear regression model</font></span>"
   ]
  },
  {
   "cell_type": "code",
   "execution_count": null,
   "id": "a882aaf7-0fa6-4b5f-8983-aa609735f136",
   "metadata": {},
   "outputs": [],
   "source": [
    "# import the model class \n"
   ]
  },
  {
   "cell_type": "code",
   "execution_count": null,
   "id": "4d530a90-ba4a-454d-beab-8d8227570920",
   "metadata": {},
   "outputs": [],
   "source": [
    "# create an instance of the model object\n",
    "model = "
   ]
  },
  {
   "cell_type": "code",
   "execution_count": null,
   "id": "308bfe21-2998-4079-8a43-ffdd30793951",
   "metadata": {},
   "outputs": [],
   "source": [
    "# fit the model to the processed training data\n",
    "model."
   ]
  },
  {
   "cell_type": "code",
   "execution_count": null,
   "id": "0c1b7a42-bcf6-459f-a867-3bcebf35a140",
   "metadata": {},
   "outputs": [],
   "source": [
    "# get the intercept and model coefficients\n",
    "model."
   ]
  },
  {
   "cell_type": "code",
   "execution_count": null,
   "id": "ae495b4b-81ee-44c8-bbfc-e3b38430b977",
   "metadata": {},
   "outputs": [],
   "source": [
    "# get the coefficients inside a nice dataframe\n",
    "feature_names = \n",
    "\n",
    "coefs = pd.DataFrame(data=  ,\n",
    "                     columns= , \n",
    "                     index=  )"
   ]
  },
  {
   "cell_type": "code",
   "execution_count": null,
   "id": "483675ad-c923-4667-be8b-2542cf096ddb",
   "metadata": {},
   "outputs": [],
   "source": [
    "# which features look most relevant?\n",
    "coefs.plot.barh(figsize=(10, 4))\n",
    "plt.axvline(x=0, color=\".5\")\n",
    "plt.xlabel(\"Coefficient values\")\n",
    "plt.subplots_adjust(left=0.3)"
   ]
  },
  {
   "cell_type": "code",
   "execution_count": null,
   "id": "de394e17-0235-492e-9445-92d38d0c5534",
   "metadata": {},
   "outputs": [],
   "source": []
  },
  {
   "cell_type": "markdown",
   "id": "99325f34-9a4b-4b50-9a03-b19e7108ecdf",
   "metadata": {},
   "source": [
    "## <span style=\"color:rebeccapurple\">10. Predict values for the test set</span></h1>"
   ]
  },
  {
   "cell_type": "markdown",
   "id": "e7c14b8d-4d55-4caa-aea7-8a4510ee1c4a",
   "metadata": {},
   "source": [
    "<span style=\"color:#DC537D\"><font size=\"+1\">Generate predictions from your trained model</font></span>"
   ]
  },
  {
   "cell_type": "code",
   "execution_count": null,
   "id": "0dce7872-9ad2-4679-9d84-673e7339dbf7",
   "metadata": {},
   "outputs": [],
   "source": [
    "# generate predictions from your trained model\n",
    "y_predicted_train = \n",
    "y_predicted_test = \n",
    "\n",
    "y_predicted_train.shape, y_predicted_test.shape"
   ]
  },
  {
   "cell_type": "code",
   "execution_count": null,
   "id": "d0a4dfbf-235f-44b6-b797-a31b591f3a99",
   "metadata": {},
   "outputs": [],
   "source": [
    "# plot\n",
    "fig, axes = plt.subplots(nrows=1, ncols=2, figsize=(10,3))\n",
    "\n",
    "axes[0].scatter(y_train, y_predicted_train, s=2)\n",
    "axes[0].set_title(\"Train data\")\n",
    "axes[1].scatter(y_test, y_predicted_test, s=2)\n",
    "axes[1].set_title(\"Test data\")\n",
    "\n",
    "for ax in axes:\n",
    "    ax.plot([0, 1], [0, 1], transform=ax.transAxes, ls=\"--\", c=\"red\")\n",
    "    ax.set(xlabel=\"Observed y\", ylabel=\"Predicted y\")"
   ]
  },
  {
   "cell_type": "markdown",
   "id": "2260294d-999b-47c6-af6d-aba8af9c977c",
   "metadata": {},
   "source": [
    "## <span style=\"color:rebeccapurple\">11. Evaluate the model</span>"
   ]
  },
  {
   "cell_type": "markdown",
   "id": "757d60f9-9014-4d54-9ed2-b1de332c3c6e",
   "metadata": {},
   "source": [
    "<span style=\"color:#DC537D\"><font size=\"+1\">What is the $R^2$?</font></span>"
   ]
  },
  {
   "cell_type": "code",
   "execution_count": null,
   "id": "df8848b9-0ba3-42c0-b766-2a74f7b039a4",
   "metadata": {},
   "outputs": [],
   "source": [
    "# import metric function\n"
   ]
  },
  {
   "cell_type": "code",
   "execution_count": null,
   "id": "0a4311c6-68b0-4742-853f-8bd3ffb166fc",
   "metadata": {},
   "outputs": [],
   "source": [
    "# calculate metric for test\n"
   ]
  },
  {
   "cell_type": "code",
   "execution_count": null,
   "id": "52704fe2-f862-4503-ba5c-40b4507b744d",
   "metadata": {},
   "outputs": [],
   "source": [
    "# calculate metric for train\n"
   ]
  },
  {
   "cell_type": "markdown",
   "id": "0a24e9ba-ee6b-40cf-ae62-b880b89fe86f",
   "metadata": {},
   "source": [
    "<span style=\"color:#DC537D\"><font size=\"+1\">What is the MSE?</font></span>"
   ]
  },
  {
   "cell_type": "code",
   "execution_count": null,
   "id": "79efbd0c-2164-45a2-987a-fee504831690",
   "metadata": {},
   "outputs": [],
   "source": [
    "# import metric function\n"
   ]
  },
  {
   "cell_type": "code",
   "execution_count": null,
   "id": "bdf8b9e2-cdba-4930-984a-d460ade08e7f",
   "metadata": {},
   "outputs": [],
   "source": [
    "# calculate metric for test\n"
   ]
  },
  {
   "cell_type": "code",
   "execution_count": null,
   "id": "2de7b3d8-0ba2-4b50-a3ed-754b06d7f4dc",
   "metadata": {},
   "outputs": [],
   "source": [
    "# calculate metric for train\n"
   ]
  },
  {
   "cell_type": "code",
   "execution_count": null,
   "id": "e7d72c5a-ab6b-4690-98e9-e4d441cf89b6",
   "metadata": {},
   "outputs": [],
   "source": []
  },
  {
   "cell_type": "markdown",
   "id": "c61d1c3c-ed5b-48b3-9793-8cb94570a8b8",
   "metadata": {
    "tags": []
   },
   "source": [
    "# <span style=\"color:rebeccapurple\">Bonus Questions</span>\n",
    "Feel free to code out variations of the ML workflow to answer these questions"
   ]
  },
  {
   "cell_type": "markdown",
   "id": "b6ee4d51-a4dd-48fd-bc8a-fe3e7de7a8e2",
   "metadata": {},
   "source": [
    "<span style=\"color:#DC537D\"><font size=\"+1\">Does changing the train-test split ratio improve the model?</font></span>\n",
    "<br>Hint: does the fraction of the split matter, or does the sample size?"
   ]
  },
  {
   "cell_type": "markdown",
   "id": "c2b9bed1-4239-4cc0-957e-8f96f0d9b7f8",
   "metadata": {},
   "source": [
    "<span style=\"color:#DC537D\"><font size=\"+1\">Do you always get the same result when you randomly split the train and test sets multiple times?</font></span>\n",
    "<br>Hint: think about the variance in the model"
   ]
  },
  {
   "cell_type": "markdown",
   "id": "a4b5ecc6-d5e4-4477-9d81-c4b96bc4f2d0",
   "metadata": {},
   "source": [
    "<span style=\"color:#DC537D\"><font size=\"+1\">Are the features and target variables normally distributed?</font></span>\n",
    "<br>Hint: think about transforming individual features _before_ pre-processing to make it more normal-like"
   ]
  },
  {
   "cell_type": "markdown",
   "id": "57f613a9-837d-419f-8e5c-2e5545e9b637",
   "metadata": {},
   "source": [
    "<span style=\"color:#DC537D\"><font size=\"+1\">Does scaling really matter?</font></span>\n",
    "<br>Hint: don't pre-process the numerical columns before modeling and look at the coefficients"
   ]
  },
  {
   "cell_type": "code",
   "execution_count": null,
   "id": "4a9787d7-6374-4146-9d7b-1532a7ade708",
   "metadata": {},
   "outputs": [],
   "source": []
  }
 ],
 "metadata": {
  "kernelspec": {
   "display_name": "Python 3 (ipykernel)",
   "language": "python",
   "name": "python3"
  },
  "language_info": {
   "codemirror_mode": {
    "name": "ipython",
    "version": 3
   },
   "file_extension": ".py",
   "mimetype": "text/x-python",
   "name": "python",
   "nbconvert_exporter": "python",
   "pygments_lexer": "ipython3",
   "version": "3.10.9"
  }
 },
 "nbformat": 4,
 "nbformat_minor": 5
}
